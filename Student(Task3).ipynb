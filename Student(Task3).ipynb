{
  "nbformat": 4,
  "nbformat_minor": 0,
  "metadata": {
    "colab": {
      "name": "Untitled8.ipynb",
      "provenance": [],
      "collapsed_sections": [],
      "toc_visible": true
    },
    "kernelspec": {
      "name": "python3",
      "display_name": "Python 3"
    }
  },
  "cells": [
    {
      "cell_type": "markdown",
      "metadata": {
        "id": "zUsbpesa7a6J"
      },
      "source": [
        "###**ARTI MISHRA**\r\n",
        "\r\n",
        "# **The Spark Foundation- Data Science Internship Task-3**\r\n",
        "\r\n",
        "\r\n",
        "####Predict the percentage of an student based on the no. of study hours."
      ]
    },
    {
      "cell_type": "markdown",
      "metadata": {
        "id": "rgobWS1DAT8O"
      },
      "source": [
        "**Simple Linear Regression with Python Scikit Learn**\r\n",
        "\r\n",
        "Simple linear regression is a statistical method that allows us to summarize and study relationships between two continuous (quantitative) variables. Here in this task we will calculate the percentage of the student based on the hour that was spend in studies."
      ]
    },
    {
      "cell_type": "markdown",
      "metadata": {
        "id": "teFuNHJCBjDK"
      },
      "source": [
        "#Importing the libraries\r\n",
        "\r\n",
        "\r\n",
        "\r\n"
      ]
    },
    {
      "cell_type": "code",
      "metadata": {
        "id": "u-LNoNzqCpEF"
      },
      "source": [
        "import numpy as np\r\n",
        "import matplotlib.pyplot as plt\r\n",
        "import pandas as pd"
      ],
      "execution_count": null,
      "outputs": []
    },
    {
      "cell_type": "markdown",
      "metadata": {
        "id": "b5OAf7fCF9S6"
      },
      "source": [
        "#Importing the dataset\r\n",
        "\r\n",
        "\r\n"
      ]
    },
    {
      "cell_type": "code",
      "metadata": {
        "id": "azH-T2IHGGAO"
      },
      "source": [
        "dataset = pd.read_csv('http://bit.ly/w-data')\r\n",
        "x = dataset.iloc[:, :-1].values\r\n",
        "y = dataset.iloc[:, -1].values"
      ],
      "execution_count": null,
      "outputs": []
    },
    {
      "cell_type": "markdown",
      "metadata": {
        "id": "HO-vLd4nQDNB"
      },
      "source": [
        "> Following are the **independent variable**\r\n",
        "\r\n",
        "\r\n",
        "\r\n",
        "\r\n",
        "\r\n"
      ]
    },
    {
      "cell_type": "code",
      "metadata": {
        "colab": {
          "base_uri": "https://localhost:8080/"
        },
        "id": "CcldbK3RQQgE",
        "outputId": "a697ab5b-dd11-48b4-e6c3-9f5148096914"
      },
      "source": [
        "print(x)"
      ],
      "execution_count": null,
      "outputs": [
        {
          "output_type": "stream",
          "text": [
            "[[2.5]\n",
            " [5.1]\n",
            " [3.2]\n",
            " [8.5]\n",
            " [3.5]\n",
            " [1.5]\n",
            " [9.2]\n",
            " [5.5]\n",
            " [8.3]\n",
            " [2.7]\n",
            " [7.7]\n",
            " [5.9]\n",
            " [4.5]\n",
            " [3.3]\n",
            " [1.1]\n",
            " [8.9]\n",
            " [2.5]\n",
            " [1.9]\n",
            " [6.1]\n",
            " [7.4]\n",
            " [2.7]\n",
            " [4.8]\n",
            " [3.8]\n",
            " [6.9]\n",
            " [7.8]]\n"
          ],
          "name": "stdout"
        }
      ]
    },
    {
      "cell_type": "markdown",
      "metadata": {
        "id": "Re7FHNPHQZ7o"
      },
      "source": [
        "> Following are the **dependent variable**\r\n",
        "\r\n"
      ]
    },
    {
      "cell_type": "code",
      "metadata": {
        "colab": {
          "base_uri": "https://localhost:8080/"
        },
        "id": "5N50VLJNQmKT",
        "outputId": "7ffd7eb4-2a11-41c8-cda8-f0f941f417db"
      },
      "source": [
        "print(y)"
      ],
      "execution_count": null,
      "outputs": [
        {
          "output_type": "stream",
          "text": [
            "[21 47 27 75 30 20 88 60 81 25 85 62 41 42 17 95 30 24 67 69 30 54 35 76\n",
            " 86]\n"
          ],
          "name": "stdout"
        }
      ]
    },
    {
      "cell_type": "markdown",
      "metadata": {
        "id": "W6VWDH3gRKcv"
      },
      "source": [
        "#Splitting the dataset into the Training set and Test set."
      ]
    },
    {
      "cell_type": "code",
      "metadata": {
        "id": "vYTx8yy8SOF_"
      },
      "source": [
        "from sklearn.model_selection import train_test_split\r\n",
        "x_train, x_test, y_train, y_test= train_test_split(x, y, test_size= 0.2, random_state= 0) "
      ],
      "execution_count": null,
      "outputs": []
    },
    {
      "cell_type": "markdown",
      "metadata": {
        "id": "cgSjOEFRUFoX"
      },
      "source": [
        "#Training the Simple Linear Regression model on the Training set"
      ]
    },
    {
      "cell_type": "code",
      "metadata": {
        "colab": {
          "base_uri": "https://localhost:8080/"
        },
        "id": "5UiTpwH2Zlc8",
        "outputId": "d59d57e5-4264-4cec-c810-a91f1aeee542"
      },
      "source": [
        "from sklearn.linear_model import LinearRegression\r\n",
        "regressor= LinearRegression()\r\n",
        "regressor.fit(x_train, y_train)"
      ],
      "execution_count": null,
      "outputs": [
        {
          "output_type": "execute_result",
          "data": {
            "text/plain": [
              "LinearRegression(copy_X=True, fit_intercept=True, n_jobs=None, normalize=False)"
            ]
          },
          "metadata": {
            "tags": []
          },
          "execution_count": 6
        }
      ]
    },
    {
      "cell_type": "markdown",
      "metadata": {
        "id": "tFtmGfSBaWsi"
      },
      "source": [
        "#Predicting the test set results. "
      ]
    },
    {
      "cell_type": "code",
      "metadata": {
        "id": "umHU7_slaoLb"
      },
      "source": [
        "y_pred= regressor.predict(x_test)"
      ],
      "execution_count": null,
      "outputs": []
    },
    {
      "cell_type": "markdown",
      "metadata": {
        "id": "6bvYqszfaxyD"
      },
      "source": [
        "\r\n",
        "\r\n",
        "> Following are the test set predictions which is stored in y_pred\r\n",
        "\r\n"
      ]
    },
    {
      "cell_type": "code",
      "metadata": {
        "colab": {
          "base_uri": "https://localhost:8080/"
        },
        "id": "SnEdyK-xayri",
        "outputId": "848b854c-f748-4bfe-f8f3-227afb6bbd2a"
      },
      "source": [
        "print(y_pred)"
      ],
      "execution_count": null,
      "outputs": [
        {
          "output_type": "stream",
          "text": [
            "[16.88414476 33.73226078 75.357018   26.79480124 60.49103328]\n"
          ],
          "name": "stdout"
        }
      ]
    },
    {
      "cell_type": "markdown",
      "metadata": {
        "id": "BADlFZgjdy6M"
      },
      "source": [
        "#Visualising the Training set results"
      ]
    },
    {
      "cell_type": "code",
      "metadata": {
        "colab": {
          "base_uri": "https://localhost:8080/",
          "height": 295
        },
        "id": "qwFdNykmeRnH",
        "outputId": "e0023a72-14c4-447d-e807-43c09bb0d37c"
      },
      "source": [
        "plt.scatter(x_train, y_train, color = 'red')\r\n",
        "plt.plot(x_train, regressor.predict(x_train), color = 'blue')\r\n",
        "plt.title('Hours VS Score (Training set)')\r\n",
        "plt.xlabel('Hours')\r\n",
        "plt.ylabel('Scores')\r\n",
        "plt.show()"
      ],
      "execution_count": null,
      "outputs": [
        {
          "output_type": "display_data",
          "data": {
            "image/png": "[encoded data removed]",
            "text/plain": [
              "<Figure size 432x288 with 1 Axes>"
            ]
          },
          "metadata": {
            "tags": [],
            "needs_background": "light"
          }
        }
      ]
    },
    {
      "cell_type": "markdown",
      "metadata": {
        "id": "LTgDVqX2fYT1"
      },
      "source": [
        "\r\n",
        "\r\n",
        "> Clearly there is a positive linear relation between the hours studied and scores obtained.\r\n",
        "\r\n"
      ]
    },
    {
      "cell_type": "markdown",
      "metadata": {
        "id": "Q_eRzdC5gO63"
      },
      "source": [
        "## Visualising the Test set results"
      ]
    },
    {
      "cell_type": "code",
      "metadata": {
        "colab": {
          "base_uri": "https://localhost:8080/",
          "height": 295
        },
        "id": "M0aIae6hgRlB",
        "outputId": "115d58b7-ee25-41d8-f91c-473d887651fb"
      },
      "source": [
        "plt.scatter(x_test, y_test, color = 'red')\r\n",
        "plt.plot(x_train, regressor.predict(x_train), color = 'blue')\r\n",
        "plt.title('Hours VS Score (Test set)')\r\n",
        "plt.xlabel('Hours')\r\n",
        "plt.ylabel('Scores')\r\n",
        "plt.show()"
      ],
      "execution_count": null,
      "outputs": [
        {
          "output_type": "display_data",
          "data": {
            "image/png": "[encoded data removed]",
            "text/plain": [
              "<Figure size 432x288 with 1 Axes>"
            ]
          },
          "metadata": {
            "tags": [],
            "needs_background": "light"
          }
        }
      ]
    },
    {
      "cell_type": "markdown",
      "metadata": {
        "id": "E06uRGa-ip59"
      },
      "source": [
        "##Getting the final linear regression equation with the values of the coefficients\r\n",
        "\r\n"
      ]
    },
    {
      "cell_type": "code",
      "metadata": {
        "colab": {
          "base_uri": "https://localhost:8080/"
        },
        "id": "rvtyrrhIivF0",
        "outputId": "3b2d7043-b59e-4250-e6ed-911d6d97ccec"
      },
      "source": [
        "print(regressor.coef_)\r\n",
        "print(regressor.intercept_)"
      ],
      "execution_count": null,
      "outputs": [
        {
          "output_type": "stream",
          "text": [
            "[9.91065648]\n",
            "2.018160041434662\n"
          ],
          "name": "stdout"
        }
      ]
    },
    {
      "cell_type": "markdown",
      "metadata": {
        "id": "dKotEyW_kqPG"
      },
      "source": [
        "\r\n",
        "\r\n",
        "> Here the results show that if the student studies for more than one hour then they are expected to score 9.69% more.\r\n",
        "\r\n"
      ]
    },
    {
      "cell_type": "markdown",
      "metadata": {
        "id": "eHaKvnjJmO20"
      },
      "source": [
        "###Therefore, the equation of our simple linear regression model is:\r\n",
        "\r\n",
        "             Score=9.9106×Hours+2.0181\r\n",
        "\r\n",
        "\r\n",
        "\r\n",
        "\r\n",
        "\r\n",
        "\r\n",
        "\r\n",
        "\r\n",
        "\r\n",
        "\r\n"
      ]
    },
    {
      "cell_type": "markdown",
      "metadata": {
        "id": "RxGxnEvsnP7q"
      },
      "source": [
        "##Making a single prediction"
      ]
    },
    {
      "cell_type": "code",
      "metadata": {
        "colab": {
          "base_uri": "https://localhost:8080/"
        },
        "id": "lIXVuDVPnWwc",
        "outputId": "63e62bc7-ed2c-419c-a6ea-8a3b9f025f9f"
      },
      "source": [
        "print(regressor.predict([[9.25]]))"
      ],
      "execution_count": null,
      "outputs": [
        {
          "output_type": "stream",
          "text": [
            "[93.69173249]\n"
          ],
          "name": "stdout"
        }
      ]
    },
    {
      "cell_type": "markdown",
      "metadata": {
        "id": "0E7hpWT4sav-"
      },
      "source": [
        "###**The predicted score if a student studies for 9.25 hrs/ day will be 93.69%**"
      ]
    }
  ]
}